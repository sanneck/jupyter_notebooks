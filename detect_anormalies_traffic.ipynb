{
 "cells": [
  {
   "cell_type": "code",
   "execution_count": 1,
   "metadata": {},
   "outputs": [],
   "source": [
    "%matplotlib inline\n",
    "import pandas as pd\n",
    "import numpy as np\n",
    "import matplotlib.pyplot as plt\n",
    "import seaborn as sns\n",
    "from sklearn.preprocessing import OneHotEncoder, OrdinalEncoder\n",
    "from sklearn.ensemble import RandomForestClassifier\n",
    "from sklearn.svm import SVC\n",
    "#from sklearn.model_selection import cross_val_score, train_test_split, StratifiedKFold, GridSearchCV\n",
    "from sklearn.model_selection import cross_val_score, train_test_split, StratifiedKFold, RandomizedSearchCV\n",
    "from sklearn.linear_model import LogisticRegression, RidgeClassifier\n",
    "from sklearn.discriminant_analysis import LinearDiscriminantAnalysis\n",
    "from sklearn.neighbors import KNeighborsClassifier\n",
    "from sklearn.tree import DecisionTreeClassifier\n",
    "from sklearn.naive_bayes import GaussianNB\n",
    "from sklearn.metrics import roc_auc_score\n",
    "from collections import Counter\n",
    "from sklearn.neural_network import MLPClassifier\n",
    "from dask_ml.model_selection import HyperbandSearchCV"
   ]
  },
  {
   "cell_type": "code",
   "execution_count": 2,
   "metadata": {},
   "outputs": [
    {
     "name": "stdout",
     "output_type": "stream",
     "text": [
      "(4265386, 10) (116, 10) (18649, 10) (986, 10)\n"
     ]
    }
   ],
   "source": [
    "folder = \"D:/Documents/datasets/entrenamiento/\"\n",
    "df1_file = folder + \"trafico_normal.csv\"\n",
    "df2_file = folder + \"anomalia_01_sesion_persistente_puerto_no_estandar.csv\"\n",
    "df3_file = folder + \"anomalia_02_ping_malformado.csv\"\n",
    "df4_file = folder + \"anomalia_03_escaneo_de_puertos_tcp.csv\"\n",
    "df1 = pd.read_csv(df1_file, na_values=\"?\")\n",
    "df2 = pd.read_csv(df2_file, na_values=\"?\")\n",
    "df3 = pd.read_csv(df3_file, na_values=\"?\")\n",
    "df4 = pd.read_csv(df4_file, na_values=\"?\")\n",
    "\n",
    "df1['traffic'] = 1\n",
    "df2['traffic'] = 0\n",
    "df3['traffic'] = 0\n",
    "df4['traffic'] = 0\n",
    "print(df1.shape, df2.shape, df3.shape, df4.shape)\n",
    "frames = [df1, df2, df3, df4]"
   ]
  },
  {
   "cell_type": "code",
   "execution_count": 3,
   "metadata": {},
   "outputs": [],
   "source": [
    "df = pd.concat(frames)"
   ]
  },
  {
   "cell_type": "code",
   "execution_count": 4,
   "metadata": {},
   "outputs": [],
   "source": [
    "df = pd.DataFrame(df).fillna(0)"
   ]
  },
  {
   "cell_type": "code",
   "execution_count": 5,
   "metadata": {},
   "outputs": [],
   "source": [
    "first_packet_dt = pd.to_datetime(df['First Packet'],  format = '%d-%m-%Y:%H:%M:%S',  errors = 'coerce')\n",
    "last_packet_dt = pd.to_datetime(df['Last Packet'],  format = '%d-%m-%Y:%H:%M:%S',  errors = 'coerce')"
   ]
  },
  {
   "cell_type": "code",
   "execution_count": 6,
   "metadata": {},
   "outputs": [],
   "source": [
    "time_lapse = last_packet_dt - first_packet_dt"
   ]
  },
  {
   "cell_type": "code",
   "execution_count": 7,
   "metadata": {},
   "outputs": [],
   "source": [
    "df['Time Lapse'] = time_lapse.dt.total_seconds()"
   ]
  },
  {
   "cell_type": "code",
   "execution_count": 8,
   "metadata": {},
   "outputs": [],
   "source": [
    "df.drop('First Packet', axis=1, inplace=True)\n",
    "df.drop('Last Packet', axis=1, inplace=True)"
   ]
  },
  {
   "cell_type": "code",
   "execution_count": 9,
   "metadata": {},
   "outputs": [],
   "source": [
    "# Get dummies\n",
    "df = pd.get_dummies(df, columns=[\"Protocol\", \"Destination IP\"], prefix={\"Protocol\":\"protocol\", \"Destination IP\":\"ip\"})"
   ]
  },
  {
   "cell_type": "code",
   "execution_count": 10,
   "metadata": {},
   "outputs": [],
   "source": [
    "df.drop('Source IP', axis=1, inplace=True)"
   ]
  },
  {
   "cell_type": "code",
   "execution_count": 11,
   "metadata": {},
   "outputs": [
    {
     "data": {
      "text/plain": [
       "1    4265386\n",
       "0      19751\n",
       "Name: traffic, dtype: int64"
      ]
     },
     "execution_count": 11,
     "metadata": {},
     "output_type": "execute_result"
    }
   ],
   "source": [
    "df['traffic'].value_counts()"
   ]
  },
  {
   "cell_type": "code",
   "execution_count": 12,
   "metadata": {},
   "outputs": [],
   "source": [
    "df['traffic'] = df['traffic'].astype('uint8')"
   ]
  },
  {
   "cell_type": "code",
   "execution_count": 13,
   "metadata": {},
   "outputs": [
    {
     "name": "stdout",
     "output_type": "stream",
     "text": [
      "<class 'pandas.core.frame.DataFrame'>\n",
      "Int64Index: 4285137 entries, 0 to 985\n",
      "Data columns (total 11 columns):\n",
      " #   Column                               Dtype  \n",
      "---  ------                               -----  \n",
      " 0   Source Port                          float64\n",
      " 1   Destination Port                     float64\n",
      " 2   Source Bytes                         float64\n",
      " 3   Destination Bytes                    float64\n",
      " 4   traffic                              uint8  \n",
      " 5   Time Lapse                           float64\n",
      " 6   protocol_ICMP                        uint8  \n",
      " 7   protocol_TCP                         uint8  \n",
      " 8   protocol_UDP                         uint8  \n",
      " 9   ip_c4ca4238a0b923820dcc509a6f75849b  uint8  \n",
      " 10  ip_eccbc87e4b5ce2fe28308fd9f2a7baf3  uint8  \n",
      "dtypes: float64(5), uint8(6)\n",
      "memory usage: 220.7 MB\n"
     ]
    }
   ],
   "source": [
    "df.info(memory_usage='deep')"
   ]
  },
  {
   "cell_type": "code",
   "execution_count": 14,
   "metadata": {},
   "outputs": [
    {
     "data": {
      "text/html": [
       "<div>\n",
       "<style scoped>\n",
       "    .dataframe tbody tr th:only-of-type {\n",
       "        vertical-align: middle;\n",
       "    }\n",
       "\n",
       "    .dataframe tbody tr th {\n",
       "        vertical-align: top;\n",
       "    }\n",
       "\n",
       "    .dataframe thead th {\n",
       "        text-align: right;\n",
       "    }\n",
       "</style>\n",
       "<table border=\"1\" class=\"dataframe\">\n",
       "  <thead>\n",
       "    <tr style=\"text-align: right;\">\n",
       "      <th></th>\n",
       "      <th>Source Port</th>\n",
       "      <th>Destination Port</th>\n",
       "      <th>Source Bytes</th>\n",
       "      <th>Destination Bytes</th>\n",
       "      <th>traffic</th>\n",
       "      <th>Time Lapse</th>\n",
       "      <th>protocol_ICMP</th>\n",
       "      <th>protocol_TCP</th>\n",
       "      <th>protocol_UDP</th>\n",
       "      <th>ip_c4ca4238a0b923820dcc509a6f75849b</th>\n",
       "      <th>ip_eccbc87e4b5ce2fe28308fd9f2a7baf3</th>\n",
       "    </tr>\n",
       "  </thead>\n",
       "  <tbody>\n",
       "    <tr>\n",
       "      <th>0</th>\n",
       "      <td>15000.0</td>\n",
       "      <td>22041.0</td>\n",
       "      <td>0.0</td>\n",
       "      <td>3468.0</td>\n",
       "      <td>1</td>\n",
       "      <td>129.0</td>\n",
       "      <td>0</td>\n",
       "      <td>1</td>\n",
       "      <td>0</td>\n",
       "      <td>1</td>\n",
       "      <td>0</td>\n",
       "    </tr>\n",
       "    <tr>\n",
       "      <th>1</th>\n",
       "      <td>15000.0</td>\n",
       "      <td>22041.0</td>\n",
       "      <td>0.0</td>\n",
       "      <td>840.0</td>\n",
       "      <td>1</td>\n",
       "      <td>93.0</td>\n",
       "      <td>0</td>\n",
       "      <td>1</td>\n",
       "      <td>0</td>\n",
       "      <td>1</td>\n",
       "      <td>0</td>\n",
       "    </tr>\n",
       "    <tr>\n",
       "      <th>2</th>\n",
       "      <td>15000.0</td>\n",
       "      <td>22041.0</td>\n",
       "      <td>312.0</td>\n",
       "      <td>9404.0</td>\n",
       "      <td>1</td>\n",
       "      <td>50.0</td>\n",
       "      <td>0</td>\n",
       "      <td>1</td>\n",
       "      <td>0</td>\n",
       "      <td>1</td>\n",
       "      <td>0</td>\n",
       "    </tr>\n",
       "    <tr>\n",
       "      <th>3</th>\n",
       "      <td>2443.0</td>\n",
       "      <td>32433.0</td>\n",
       "      <td>0.0</td>\n",
       "      <td>166.0</td>\n",
       "      <td>1</td>\n",
       "      <td>0.0</td>\n",
       "      <td>0</td>\n",
       "      <td>1</td>\n",
       "      <td>0</td>\n",
       "      <td>0</td>\n",
       "      <td>1</td>\n",
       "    </tr>\n",
       "    <tr>\n",
       "      <th>4</th>\n",
       "      <td>0.0</td>\n",
       "      <td>0.0</td>\n",
       "      <td>84.0</td>\n",
       "      <td>0.0</td>\n",
       "      <td>1</td>\n",
       "      <td>0.0</td>\n",
       "      <td>1</td>\n",
       "      <td>0</td>\n",
       "      <td>0</td>\n",
       "      <td>0</td>\n",
       "      <td>1</td>\n",
       "    </tr>\n",
       "    <tr>\n",
       "      <th>...</th>\n",
       "      <td>...</td>\n",
       "      <td>...</td>\n",
       "      <td>...</td>\n",
       "      <td>...</td>\n",
       "      <td>...</td>\n",
       "      <td>...</td>\n",
       "      <td>...</td>\n",
       "      <td>...</td>\n",
       "      <td>...</td>\n",
       "      <td>...</td>\n",
       "      <td>...</td>\n",
       "    </tr>\n",
       "    <tr>\n",
       "      <th>981</th>\n",
       "      <td>64629.0</td>\n",
       "      <td>995.0</td>\n",
       "      <td>44.0</td>\n",
       "      <td>0.0</td>\n",
       "      <td>0</td>\n",
       "      <td>1.0</td>\n",
       "      <td>0</td>\n",
       "      <td>1</td>\n",
       "      <td>0</td>\n",
       "      <td>0</td>\n",
       "      <td>1</td>\n",
       "    </tr>\n",
       "    <tr>\n",
       "      <th>982</th>\n",
       "      <td>49420.0</td>\n",
       "      <td>9968.0</td>\n",
       "      <td>44.0</td>\n",
       "      <td>0.0</td>\n",
       "      <td>0</td>\n",
       "      <td>1.0</td>\n",
       "      <td>0</td>\n",
       "      <td>1</td>\n",
       "      <td>0</td>\n",
       "      <td>0</td>\n",
       "      <td>1</td>\n",
       "    </tr>\n",
       "    <tr>\n",
       "      <th>983</th>\n",
       "      <td>58591.0</td>\n",
       "      <td>999.0</td>\n",
       "      <td>44.0</td>\n",
       "      <td>44.0</td>\n",
       "      <td>0</td>\n",
       "      <td>1.0</td>\n",
       "      <td>0</td>\n",
       "      <td>1</td>\n",
       "      <td>0</td>\n",
       "      <td>0</td>\n",
       "      <td>1</td>\n",
       "    </tr>\n",
       "    <tr>\n",
       "      <th>984</th>\n",
       "      <td>53508.0</td>\n",
       "      <td>9998.0</td>\n",
       "      <td>44.0</td>\n",
       "      <td>0.0</td>\n",
       "      <td>0</td>\n",
       "      <td>1.0</td>\n",
       "      <td>0</td>\n",
       "      <td>1</td>\n",
       "      <td>0</td>\n",
       "      <td>0</td>\n",
       "      <td>1</td>\n",
       "    </tr>\n",
       "    <tr>\n",
       "      <th>985</th>\n",
       "      <td>62497.0</td>\n",
       "      <td>9999.0</td>\n",
       "      <td>44.0</td>\n",
       "      <td>44.0</td>\n",
       "      <td>0</td>\n",
       "      <td>1.0</td>\n",
       "      <td>0</td>\n",
       "      <td>1</td>\n",
       "      <td>0</td>\n",
       "      <td>0</td>\n",
       "      <td>1</td>\n",
       "    </tr>\n",
       "  </tbody>\n",
       "</table>\n",
       "<p>4285137 rows × 11 columns</p>\n",
       "</div>"
      ],
      "text/plain": [
       "     Source Port  Destination Port  Source Bytes  Destination Bytes  traffic  \\\n",
       "0        15000.0           22041.0           0.0             3468.0        1   \n",
       "1        15000.0           22041.0           0.0              840.0        1   \n",
       "2        15000.0           22041.0         312.0             9404.0        1   \n",
       "3         2443.0           32433.0           0.0              166.0        1   \n",
       "4            0.0               0.0          84.0                0.0        1   \n",
       "..           ...               ...           ...                ...      ...   \n",
       "981      64629.0             995.0          44.0                0.0        0   \n",
       "982      49420.0            9968.0          44.0                0.0        0   \n",
       "983      58591.0             999.0          44.0               44.0        0   \n",
       "984      53508.0            9998.0          44.0                0.0        0   \n",
       "985      62497.0            9999.0          44.0               44.0        0   \n",
       "\n",
       "     Time Lapse  protocol_ICMP  protocol_TCP  protocol_UDP  \\\n",
       "0         129.0              0             1             0   \n",
       "1          93.0              0             1             0   \n",
       "2          50.0              0             1             0   \n",
       "3           0.0              0             1             0   \n",
       "4           0.0              1             0             0   \n",
       "..          ...            ...           ...           ...   \n",
       "981         1.0              0             1             0   \n",
       "982         1.0              0             1             0   \n",
       "983         1.0              0             1             0   \n",
       "984         1.0              0             1             0   \n",
       "985         1.0              0             1             0   \n",
       "\n",
       "     ip_c4ca4238a0b923820dcc509a6f75849b  ip_eccbc87e4b5ce2fe28308fd9f2a7baf3  \n",
       "0                                      1                                    0  \n",
       "1                                      1                                    0  \n",
       "2                                      1                                    0  \n",
       "3                                      0                                    1  \n",
       "4                                      0                                    1  \n",
       "..                                   ...                                  ...  \n",
       "981                                    0                                    1  \n",
       "982                                    0                                    1  \n",
       "983                                    0                                    1  \n",
       "984                                    0                                    1  \n",
       "985                                    0                                    1  \n",
       "\n",
       "[4285137 rows x 11 columns]"
      ]
     },
     "execution_count": 14,
     "metadata": {},
     "output_type": "execute_result"
    }
   ],
   "source": [
    "df"
   ]
  },
  {
   "cell_type": "code",
   "execution_count": 15,
   "metadata": {},
   "outputs": [],
   "source": [
    "X = df.drop('traffic', axis=1)\n",
    "y = df['traffic']\n",
    "\n",
    "X_train,X_test,y_train,y_test=train_test_split(X,y,random_state=0,test_size=0.25,stratify=y)"
   ]
  },
  {
   "cell_type": "code",
   "execution_count": 16,
   "metadata": {},
   "outputs": [
    {
     "data": {
      "text/plain": [
       "1    3199039\n",
       "0      14813\n",
       "Name: traffic, dtype: int64"
      ]
     },
     "execution_count": 16,
     "metadata": {},
     "output_type": "execute_result"
    }
   ],
   "source": [
    "y_train.value_counts()"
   ]
  },
  {
   "cell_type": "code",
   "execution_count": 17,
   "metadata": {},
   "outputs": [],
   "source": [
    "models = []\n",
    "#models.append(('LR', LogisticRegression(solver='liblinear', multi_class='ovr')))\n",
    "#models.append(('LDA', LinearDiscriminantAnalysis()))\n",
    "#models.append(('KNN', KNeighborsClassifier()))\n",
    "models.append(('CART', DecisionTreeClassifier()))\n",
    "#models.append(('NB', GaussianNB()))\n",
    "#models.append(('SVM', SVC(gamma='auto')))\n",
    "#models.append(('NN', MLPClassifier(random_state=1)))"
   ]
  },
  {
   "cell_type": "code",
   "execution_count": 18,
   "metadata": {},
   "outputs": [],
   "source": [
    "#hypterparameters for LogisticRegression\n",
    "LR_param_dict = {\n",
    "    'penalty': ['l1', 'l2'],\n",
    "    'C': [0.001, 0.01, 0.01, 10, 100, 1000],\n",
    "    'solver': ['liblinear'],\n",
    "    'multi_class': ['ovr']\n",
    "}\n",
    "\n",
    "#hypterparameters for LinearDiscriminantAnalysis\n",
    "LDA_param_dict = {\n",
    "    \"solver\": ['svf', 'lsqr', 'eigen']\n",
    "}\n",
    "\n",
    "#hypterparameters for KNeighborsClassifier\n",
    "KNN_param_dict = {\n",
    "    \"n_neighbors\": [2,4,8,16],\n",
    "    \"p\": [1,2]\n",
    "}\n",
    "\n",
    "#hypterparameters for DecisionTreeClassifier\n",
    "CART_param_dict = {\n",
    "    \"criterion\": ['gini', 'entropy'],\n",
    "    \"max_depth\": range(1,12),\n",
    "    \"min_samples_split\": range(2,10),\n",
    "    \"min_samples_leaf\": range(1,9)\n",
    "}\n",
    "\n",
    "#hypterparameters for GaussianNB\n",
    "NB_param_dict = {\n",
    "    'var_smoothing': np.logspace(0,-9, num=100)\n",
    "}\n",
    "\n",
    "#hypterparameters for SVM\n",
    "SVM_param_dict = {\n",
    "    \"C\": [50, 10, 1.0, 0.1, 0.01],\n",
    "    \"kernel\": ['poly', 'rbf', 'sigmoid'],\n",
    "    \"gamma\": ['scale']\n",
    "}\n",
    "\n",
    "\n",
    "#hypterparameters for MLPClassifier\n",
    "NN_param_dict = {\n",
    "    'activation': ['tanh', 'relu'],\n",
    "    'solver': ['sgd', 'adam'],\n",
    "    'alpha': [0.0001, 0.05],\n",
    "    \n",
    "    'learning_rate': ['constant','adaptive']\n",
    "}"
   ]
  },
  {
   "cell_type": "code",
   "execution_count": 19,
   "metadata": {
    "scrolled": false
   },
   "outputs": [
    {
     "data": {
      "text/plain": [
       "\"\\nresults = []\\nnames = []\\nfor name, model in models:\\n    kfold = StratifiedKFold(n_splits=10, random_state=1, shuffle=True)\\n    param_dict = name + '_param_dict'\\n    grid = GridSearchCV(model,\\n                       param_grid=eval(param_dict),\\n                       cv=kfold,\\n                       verbose=1,\\n                       n_jobs=-1,\\n                       scoring='roc_auc')\\n    grid.fit(X_train, y_train)\\n    print('%s: %s %f' % (name,grid.best_estimator_, grid.best_score_))\\n    grid_predictions = grid.predict(X_test)\\n    roc = roc_auc_score(y_test, grid_predictions)\\n    print('roc', roc)\\n\""
      ]
     },
     "execution_count": 19,
     "metadata": {},
     "output_type": "execute_result"
    }
   ],
   "source": [
    "\"\"\"\n",
    "results = []\n",
    "names = []\n",
    "for name, model in models:\n",
    "    kfold = StratifiedKFold(n_splits=10, random_state=1, shuffle=True)\n",
    "    param_dict = name + '_param_dict'\n",
    "    grid = GridSearchCV(model,\n",
    "                       param_grid=eval(param_dict),\n",
    "                       cv=kfold,\n",
    "                       verbose=1,\n",
    "                       n_jobs=-1,\n",
    "                       scoring='roc_auc')\n",
    "    grid.fit(X_train, y_train)\n",
    "    print('%s: %s %f' % (name,grid.best_estimator_, grid.best_score_))\n",
    "    grid_predictions = grid.predict(X_test)\n",
    "    roc = roc_auc_score(y_test, grid_predictions)\n",
    "    print('roc', roc)\n",
    "\"\"\""
   ]
  },
  {
   "cell_type": "code",
   "execution_count": 20,
   "metadata": {},
   "outputs": [
    {
     "name": "stdout",
     "output_type": "stream",
     "text": [
      "Fitting 10 folds for each of 10 candidates, totalling 100 fits\n"
     ]
    },
    {
     "name": "stderr",
     "output_type": "stream",
     "text": [
      "[Parallel(n_jobs=-1)]: Using backend LokyBackend with 8 concurrent workers.\n",
      "[Parallel(n_jobs=-1)]: Done  34 tasks      | elapsed:   53.9s\n",
      "[Parallel(n_jobs=-1)]: Done 100 out of 100 | elapsed:  2.8min finished\n"
     ]
    },
    {
     "name": "stdout",
     "output_type": "stream",
     "text": [
      "CART: DecisionTreeClassifier(max_depth=7, min_samples_leaf=7, min_samples_split=9) 0.999728\n",
      "roc 0.9970565551395579\n"
     ]
    }
   ],
   "source": [
    "\n",
    "results = []\n",
    "names = []\n",
    "for name, model in models:\n",
    "    kfold = StratifiedKFold(n_splits=10, random_state=1, shuffle=True)\n",
    "    param_dict = name + '_param_dict'\n",
    "    grid = RandomizedSearchCV(model,\n",
    "                       param_distributions=eval(param_dict),\n",
    "                       cv=kfold,\n",
    "                       verbose=1,\n",
    "                       n_jobs=-1,\n",
    "                       scoring='roc_auc')\n",
    "    grid.fit(X_train, y_train)\n",
    "    print('%s: %s %f' % (name, grid.best_estimator_, grid.best_score_))\n",
    "    grid_predictions = grid.predict(X_test)\n",
    "    roc = roc_auc_score(y_test, grid_predictions)\n",
    "    print('roc', roc)\n"
   ]
  },
  {
   "cell_type": "code",
   "execution_count": null,
   "metadata": {},
   "outputs": [],
   "source": [
    "# load test data\n",
    "import datetime\n",
    "test_folder = \"D:/Documents/datasets/evaluacion/\"\n",
    "normal = []\n",
    "anormal = []"
   ]
  },
  {
   "cell_type": "code",
   "execution_count": 23,
   "metadata": {},
   "outputs": [
    {
     "name": "stdout",
     "output_type": "stream",
     "text": [
      "1 1.0 trafico \u001b[92mNORMAL\u001b[0m\n",
      "2 1.0 trafico \u001b[92mNORMAL\u001b[0m\n",
      "3 1.0 trafico \u001b[92mNORMAL\u001b[0m\n",
      "4 1.0 trafico \u001b[92mNORMAL\u001b[0m\n",
      "5 1.0 trafico \u001b[92mNORMAL\u001b[0m\n",
      "6 1.0 trafico \u001b[92mNORMAL\u001b[0m\n",
      "7 1.0 trafico \u001b[92mNORMAL\u001b[0m\n",
      "8 1.0 trafico \u001b[92mNORMAL\u001b[0m\n",
      "9 1.0 trafico \u001b[92mNORMAL\u001b[0m\n",
      "10 1.0 trafico \u001b[92mNORMAL\u001b[0m\n",
      "11 1.0 trafico \u001b[92mNORMAL\u001b[0m\n",
      "12 0.0 trafico \u001b[93mANORMAL\u001b[0m\n",
      "13 1.0 trafico \u001b[92mNORMAL\u001b[0m\n",
      "14 1.0 trafico \u001b[92mNORMAL\u001b[0m\n",
      "15 1.0 trafico \u001b[92mNORMAL\u001b[0m\n",
      "16 1.0 trafico \u001b[92mNORMAL\u001b[0m\n",
      "17 1.0 trafico \u001b[92mNORMAL\u001b[0m\n",
      "18 1.0 trafico \u001b[92mNORMAL\u001b[0m\n",
      "19 0.0 trafico \u001b[93mANORMAL\u001b[0m\n",
      "20 0.0 trafico \u001b[93mANORMAL\u001b[0m\n",
      "21 1.0 trafico \u001b[92mNORMAL\u001b[0m\n",
      "22 1.0 trafico \u001b[92mNORMAL\u001b[0m\n",
      "23 1.0 trafico \u001b[92mNORMAL\u001b[0m\n",
      "24 1.0 trafico \u001b[92mNORMAL\u001b[0m\n",
      "25 1.0 trafico \u001b[92mNORMAL\u001b[0m\n",
      "26 1.0 trafico \u001b[92mNORMAL\u001b[0m\n",
      "27 1.0 trafico \u001b[92mNORMAL\u001b[0m\n",
      "28 1.0 trafico \u001b[92mNORMAL\u001b[0m\n",
      "29 1.0 trafico \u001b[92mNORMAL\u001b[0m\n",
      "30 0.37 trafico \u001b[93mANORMAL\u001b[0m\n",
      "31 1.0 trafico \u001b[92mNORMAL\u001b[0m\n",
      "32 1.0 trafico \u001b[92mNORMAL\u001b[0m\n",
      "33 1.0 trafico \u001b[92mNORMAL\u001b[0m\n",
      "34 0.01 trafico \u001b[93mANORMAL\u001b[0m\n",
      "35 1.0 trafico \u001b[92mNORMAL\u001b[0m\n",
      "36 1.0 trafico \u001b[92mNORMAL\u001b[0m\n",
      "37 1.0 trafico \u001b[92mNORMAL\u001b[0m\n",
      "38 0.0 trafico \u001b[93mANORMAL\u001b[0m\n",
      "39 1.0 trafico \u001b[92mNORMAL\u001b[0m\n",
      "40 1.0 trafico \u001b[92mNORMAL\u001b[0m\n",
      "41 1.0 trafico \u001b[92mNORMAL\u001b[0m\n",
      "42 1.0 trafico \u001b[92mNORMAL\u001b[0m\n",
      "43 1.0 trafico \u001b[92mNORMAL\u001b[0m\n",
      "44 1.0 trafico \u001b[92mNORMAL\u001b[0m\n",
      "45 1.0 trafico \u001b[92mNORMAL\u001b[0m\n",
      "46 0.0 trafico \u001b[93mANORMAL\u001b[0m\n",
      "47 1.0 trafico \u001b[92mNORMAL\u001b[0m\n",
      "48 1.0 trafico \u001b[92mNORMAL\u001b[0m\n",
      "49 1.0 trafico \u001b[92mNORMAL\u001b[0m\n",
      "finished\n"
     ]
    }
   ],
   "source": [
    "for i in range(1, 50):\n",
    "    dft_file = test_folder + str(i) + \".csv\"\n",
    "    dft = pd.read_csv(dft_file, na_values=\"?\")\n",
    "\n",
    "    dft = pd.DataFrame(dft).fillna(0)\n",
    "    columns = ['protocol_ICMP', 'protocol_TCP', 'protocol_UDP']\n",
    "\n",
    "    # Get dummies\n",
    "    dft = pd.get_dummies(dft, columns=[\"Protocol\", \"Destination IP\"], prefix={\"Protocol\":\"protocol\", \"Destination IP\":\"ip\"})\n",
    "\n",
    "    first_date = dft['First Packet'][0]\n",
    "    try: \n",
    "        datetime.datetime.strptime(first_date, '%d-%m-%Y:%H:%M:%S')\n",
    "        dataset_date_format = '%d-%m-%Y:%H:%M:%S'\n",
    "    except ValueError:\n",
    "        dataset_date_format = '%Y-%m-%d %H:%M:%S'\n",
    "\n",
    "    dft['First Packet'] = pd.to_datetime(dft['First Packet'],  format=dataset_date_format,  errors = 'coerce')\n",
    "    dft['Last Packet'] = pd.to_datetime(dft['Last Packet'],  format=dataset_date_format,  errors = 'coerce')\n",
    "\n",
    "    time_lapse_t = dft['Last Packet'] - dft['First Packet']\n",
    "\n",
    "    dft['Time Lapse'] = time_lapse_t.dt.total_seconds()\n",
    "\n",
    "    dft.drop('Source IP', axis=1, inplace=True)\n",
    "\n",
    "    dft.drop('First Packet', axis=1, inplace=True)\n",
    "    dft.drop('Last Packet', axis=1, inplace=True)\n",
    "\n",
    "    missing_cols = set( df.columns ) - set( dft.columns )\n",
    "    for c in missing_cols:\n",
    "        dft[c] = 0\n",
    "    dft = dft[X_train.columns]\n",
    "\n",
    "    X_test2 = dft\n",
    "    \n",
    "    # Make predictions on validation dataset\n",
    "    #model = KNeighborsClassifier(n_neighbors=16, p=1)\n",
    "    # best option: model = DecisionTreeClassifier(criterion='entropy', max_depth=5, random_state=1)\n",
    "    model = DecisionTreeClassifier(max_depth=7, min_samples_leaf=7, min_samples_split=9)\n",
    "    model.fit(X_train, y_train)\n",
    "    predictions = model.predict(X_test2)\n",
    "\n",
    "    predic_mean = round(np.mean(predictions), 2)\n",
    "    trafico = \"\\033[92mNORMAL\\033[0m\"\n",
    "    if predic_mean < 0.5:\n",
    "        trafico = \"\\033[93mANORMAL\\033[0m\"\n",
    "        anormal.append(i)\n",
    "    else:\n",
    "        normal.append(i)\n",
    "\n",
    "    print(i, predic_mean, f\"trafico {trafico}\")\n",
    "    \n",
    "print('finished')"
   ]
  },
  {
   "cell_type": "code",
   "execution_count": 24,
   "metadata": {},
   "outputs": [
    {
     "data": {
      "text/plain": [
       "[12, 19, 20, 30, 34, 38, 46]"
      ]
     },
     "execution_count": 24,
     "metadata": {},
     "output_type": "execute_result"
    }
   ],
   "source": [
    "anormal"
   ]
  }
 ],
 "metadata": {
  "kernelspec": {
   "display_name": "Python 3",
   "language": "python",
   "name": "python3"
  },
  "language_info": {
   "codemirror_mode": {
    "name": "ipython",
    "version": 3
   },
   "file_extension": ".py",
   "mimetype": "text/x-python",
   "name": "python",
   "nbconvert_exporter": "python",
   "pygments_lexer": "ipython3",
   "version": "3.8.6"
  }
 },
 "nbformat": 4,
 "nbformat_minor": 4
}
